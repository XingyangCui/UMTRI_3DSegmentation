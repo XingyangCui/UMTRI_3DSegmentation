{
 "cells": [
  {
   "cell_type": "code",
   "execution_count": 1,
   "id": "6ba55a75",
   "metadata": {},
   "outputs": [
    {
     "name": "stdout",
     "output_type": "stream",
     "text": [
      "Total number of folders: 373\n"
     ]
    }
   ],
   "source": [
    "#数据统计\n",
    "\n",
    "import os\n",
    "\n",
    "folder_path = \"/nfs/turbo/coe-mreedsensitive/_PatientScans/Foot_2024\"\n",
    "\n",
    "# 列出该目录下的所有子项，并筛选出文件夹\n",
    "subfolders = [f for f in os.listdir(folder_path) if os.path.isdir(os.path.join(folder_path, f))]\n",
    "\n",
    "print(f\"Total number of folders: {len(subfolders)}\")\n"
   ]
  },
  {
   "cell_type": "code",
   "execution_count": 1,
   "id": "c4361501",
   "metadata": {},
   "outputs": [
    {
     "name": "stdout",
     "output_type": "stream",
     "text": [
      "nnUNet_raw: /nfs/turbo/coe-mreedsensitive/Processing/Foot_and_Ankle/SK/TS_FineTuning/nnUNet_raw\n",
      "nnUNet_preprocessed: /nfs/turbo/coe-mreedsensitive/Processing/Foot_and_Ankle/SK/TS_FineTuning/nnUNet_preprocessed\n",
      "nnUNet_results: /nfs/turbo/coe-mreedsensitive/Processing/Foot_and_Ankle/SK/TS_FineTuning/nnUNet_results\n"
     ]
    }
   ],
   "source": [
    "import nnunetv2\n",
    "#setting the path\n",
    "\n",
    "import os\n",
    "os.environ[\"nnUNet_raw\"] = \"/nfs/turbo/coe-mreedsensitive/Processing/Foot_and_Ankle/SK/TS_FineTuning/nnUNet_raw\"\n",
    "os.environ[\"nnUNet_preprocessed\"] = \"/nfs/turbo/coe-mreedsensitive/Processing/Foot_and_Ankle/SK/TS_FineTuning/nnUNet_preprocessed\"\n",
    "os.environ[\"nnUNet_results\"] = \"/nfs/turbo/coe-mreedsensitive/Processing/Foot_and_Ankle/SK/TS_FineTuning/nnUNet_results\"  # 训练结果存放目录\n",
    "# =Check\n",
    "print(\"nnUNet_raw:\", os.environ.get(\"nnUNet_raw\"))\n",
    "print(\"nnUNet_preprocessed:\", os.environ.get(\"nnUNet_preprocessed\"))\n",
    "print(\"nnUNet_results:\", os.environ.get(\"nnUNet_results\"))\n"
   ]
  },
  {
   "cell_type": "code",
   "execution_count": 3,
   "id": "581649d8",
   "metadata": {},
   "outputs": [
    {
     "name": "stdout",
     "output_type": "stream",
     "text": [
      "\n",
      "#######################################################################\n",
      "Please cite the following paper when using nnU-Net:\n",
      "Isensee, F., Jaeger, P. F., Kohl, S. A., Petersen, J., & Maier-Hein, K. H. (2021). nnU-Net: a self-configuring method for deep learning-based biomedical image segmentation. Nature methods, 18(2), 203-211.\n",
      "#######################################################################\n",
      "\n",
      "There are 1 cases in the source folder\n",
      "I am process 0 out of 1 (max process ID is 0, we start counting with 0!)\n",
      "There are 1 cases that I would like to predict\n",
      "\n",
      "Predicting LF2011_resampled__cropped:\n",
      "perform_everything_on_device: True\n"
     ]
    },
    {
     "name": "stderr",
     "output_type": "stream",
     "text": [
      "100%|██████████| 726/726 [00:35<00:00, 20.27it/s]\n"
     ]
    },
    {
     "name": "stdout",
     "output_type": "stream",
     "text": [
      "Prediction on device was unsuccessful, probably due to a lack of memory. Moving results arrays to CPU\n"
     ]
    },
    {
     "name": "stderr",
     "output_type": "stream",
     "text": [
      "100%|██████████| 726/726 [02:32<00:00,  4.75it/s]\n"
     ]
    },
    {
     "name": "stdout",
     "output_type": "stream",
     "text": [
      "sending off prediction to background worker for resampling and export\n",
      "done with LF2011_resampled__cropped\n"
     ]
    },
    {
     "data": {
      "text/plain": [
       "CompletedProcess(args=['nnUNetv2_predict', '-i', '/home/cuixing/Foot&Ankle/Data_Predict/Predict_Data/test', '-o', '/home/cuixing/Foot&Ankle/Data_Predict/Predicted_Result/72_Predict', '-d', '072', '-c', '3d_fullres', '-tr', 'nnUNetTrainer', '--disable_tta', '-f', '1', '-chk', 'checkpoint_best.pth'], returncode=0)"
      ]
     },
     "execution_count": 3,
     "metadata": {},
     "output_type": "execute_result"
    }
   ],
   "source": [
    "#mirroring\n",
    "import subprocess\n",
    "\n",
    "command = [\n",
    "    \"nnUNetv2_predict\",\n",
    "    #\"-i\", \"/nfs/turbo/coe-mreedsensitive/Processing/Foot_and_Ankle/SK/TS_FineTuning/nnUNet_raw/Dataset072_TS_app_bones/imagesTr\",\n",
    "    \"-i\", \"/home/cuixing/Foot&Ankle/Data_Predict/Predict_Data/test\",\n",
    "    \"-o\", \"/home/cuixing/Foot&Ankle/Data_Predict/Predicted_Result/72_Predict\",\n",
    "    \"-d\", \"072\",\n",
    "    \"-c\", \"3d_fullres\",\n",
    "    \"-tr\", \"nnUNetTrainer\",\n",
    "    \"--disable_tta\",\n",
    "    \"-f\", \"1\",\n",
    "    \"-chk\", \"checkpoint_best.pth\"\n",
    "]\n",
    "\n",
    "subprocess.run(command, check=True)\n"
   ]
  },
  {
   "cell_type": "code",
   "execution_count": null,
   "id": "544b7f4e",
   "metadata": {},
   "outputs": [],
   "source": []
  },
  {
   "cell_type": "markdown",
   "id": "1c495dff",
   "metadata": {},
   "source": [
    "# Predict results for transfer_learning"
   ]
  },
  {
   "cell_type": "code",
   "execution_count": 1,
   "id": "8cff24b5",
   "metadata": {},
   "outputs": [
    {
     "name": "stdout",
     "output_type": "stream",
     "text": [
      "nnUNet_raw: /home/cuixing/Foot&Ankle/Tarsus_split_rawdata\n",
      "nnUNet_preprocessed: /nfs/turbo/coe-mreedsensitive/Processing/Foot_and_Ankle/SK/TS_FineTuning/nnUNet_preprocessed\n",
      "nnUNet_results: /home/cuixing/Foot&Ankle/Results\n"
     ]
    }
   ],
   "source": [
    "import nnunetv2\n",
    "#setting the path\n",
    "\n",
    "import os\n",
    "os.environ[\"nnUNet_raw\"] = \"/home/cuixing/Foot&Ankle/Tarsus_split_rawdata\"\n",
    "os.environ[\"nnUNet_preprocessed\"] = \"/nfs/turbo/coe-mreedsensitive/Processing/Foot_and_Ankle/SK/TS_FineTuning/nnUNet_preprocessed\"\n",
    "os.environ[\"nnUNet_results\"] = \"/home/cuixing/Foot&Ankle/Results\"  # 训练结果存放目录\n",
    "# =Check\n",
    "print(\"nnUNet_raw:\", os.environ.get(\"nnUNet_raw\"))\n",
    "print(\"nnUNet_preprocessed:\", os.environ.get(\"nnUNet_preprocessed\"))\n",
    "print(\"nnUNet_results:\", os.environ.get(\"nnUNet_results\"))\n"
   ]
  },
  {
   "cell_type": "code",
   "execution_count": 4,
   "id": "33498dca",
   "metadata": {},
   "outputs": [
    {
     "name": "stdout",
     "output_type": "stream",
     "text": [
      "\n",
      "#######################################################################\n",
      "Please cite the following paper when using nnU-Net:\n",
      "Isensee, F., Jaeger, P. F., Kohl, S. A., Petersen, J., & Maier-Hein, K. H. (2021). nnU-Net: a self-configuring method for deep learning-based biomedical image segmentation. Nature methods, 18(2), 203-211.\n",
      "#######################################################################\n",
      "\n",
      "There are 1 cases in the source folder\n",
      "I am process 0 out of 1 (max process ID is 0, we start counting with 0!)\n",
      "There are 1 cases that I would like to predict\n",
      "\n",
      "Predicting LM7101_resampled_cropped:\n",
      "perform_everything_on_device: True\n",
      "Prediction on device was unsuccessful, probably due to a lack of memory. Moving results arrays to CPU\n"
     ]
    },
    {
     "name": "stderr",
     "output_type": "stream",
     "text": [
      "100%|██████████| 693/693 [03:34<00:00,  3.23it/s]\n"
     ]
    },
    {
     "name": "stdout",
     "output_type": "stream",
     "text": [
      "sending off prediction to background worker for resampling and export\n",
      "done with LM7101_resampled_cropped\n"
     ]
    },
    {
     "data": {
      "text/plain": [
       "CompletedProcess(args=['nnUNetv2_predict', '-i', '/home/cuixing/Foot&Ankle/Data_Predict/Predict_Data/test', '-o', '/home/cuixing/Foot&Ankle/Data_Predict/Predicted_Result/01_Predict', '-d', '001', '-c', '3d_fullres', '-tr', 'nnUNetTrainer', '--disable_tta', '-f', '0', '-chk', 'checkpoint_best.pth'], returncode=0)"
      ]
     },
     "execution_count": 4,
     "metadata": {},
     "output_type": "execute_result"
    }
   ],
   "source": [
    "#mirroring\n",
    "import subprocess\n",
    "\n",
    "command = [\n",
    "    \"nnUNetv2_predict\",\n",
    "    #\"-i\", \"/nfs/turbo/coe-mreedsensitive/Processing/Foot_and_Ankle/SK/TS_FineTuning/nnUNet_raw/Dataset072_TS_app_bones/imagesTr\",\n",
    "    \"-i\", \"/home/cuixing/Foot&Ankle/Data_Predict/Predict_Data/test\",\n",
    "    \"-o\", \"/home/cuixing/Foot&Ankle/Data_Predict/Predicted_Result/01_Predict\",\n",
    "    \"-d\", \"001\",\n",
    "    \"-c\", \"3d_fullres\",\n",
    "    \"-tr\", \"nnUNetTrainer\",\n",
    "    \"--disable_tta\",\n",
    "    \"-f\", \"0\",\n",
    "    \"-chk\", \"checkpoint_best.pth\"\n",
    "]\n",
    "\n",
    "subprocess.run(command, check=True)\n"
   ]
  },
  {
   "cell_type": "code",
   "execution_count": null,
   "id": "7b6faa6b",
   "metadata": {},
   "outputs": [],
   "source": []
  }
 ],
 "metadata": {
  "kernelspec": {
   "display_name": "Python 3 (ipykernel)",
   "language": "python",
   "name": "python3"
  },
  "language_info": {
   "codemirror_mode": {
    "name": "ipython",
    "version": 3
   },
   "file_extension": ".py",
   "mimetype": "text/x-python",
   "name": "python",
   "nbconvert_exporter": "python",
   "pygments_lexer": "ipython3",
   "version": "3.9.7"
  }
 },
 "nbformat": 4,
 "nbformat_minor": 5
}
