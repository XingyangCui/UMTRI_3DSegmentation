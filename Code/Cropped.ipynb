{
 "cells": [
  {
   "cell_type": "code",
   "execution_count": 4,
   "id": "be3da68b",
   "metadata": {},
   "outputs": [
    {
     "name": "stdout",
     "output_type": "stream",
     "text": [
      "❌ 文件不存在: LM7100_resampled.nii.gz\n",
      "📂 Processing LM7101_resampled.nii.gz, shape: (480, 480, 1795)\n",
      "✅ Cropped image saved at: /nfs/turbo/coe-mreedsensitive/Processing/Foot_and_Ankle/SK/Tarsus_Separated/LM7101/test/LM7101_resampled_cropped.nii.gz\n",
      "\n"
     ]
    }
   ],
   "source": [
    "import nibabel as nib\n",
    "import os\n",
    "\n",
    "#input_dir = \"/home/cuixing/Foot&Ankle/Data_Predict/Predict_Data/test_transfer_learning\"\n",
    "input_dir = \"/nfs/turbo/coe-mreedsensitive/Processing/Foot_and_Ankle/SK/Tarsus_Separated/LM7101\"\n",
    "output_dir = os.path.join(input_dir, 'test')\n",
    "os.makedirs(output_dir, exist_ok=True)\n",
    "\n",
    "for patient_id in range(7100, 7102):\n",
    "    Label = 'LM'\n",
    "    filename = f\"{Label}{patient_id}_resampled.nii.gz\"\n",
    "    input_path = os.path.join(input_dir, filename)\n",
    "\n",
    "    if not os.path.exists(input_path):\n",
    "        print(f\"❌ 文件不存在: {filename}\")\n",
    "        continue\n",
    "\n",
    "    try:\n",
    "        img = nib.load(input_path)\n",
    "        data = img.get_fdata()\n",
    "        affine = img.affine\n",
    "        header = img.header\n",
    "\n",
    "        print(f\"📂 Processing {filename}, shape: {data.shape}\")\n",
    "\n",
    "        z_mid = data.shape[2] // 2\n",
    "        if affine[2, 2] > 0:\n",
    "            cropped_data = data[:, :, :z_mid]\n",
    "        else:\n",
    "            cropped_data = data[:, :, z_mid:]\n",
    "\n",
    "        cropped_img = nib.Nifti1Image(cropped_data, affine, header)\n",
    "        output_path = os.path.join(output_dir, filename.replace(\".nii.gz\", \"_cropped.nii.gz\"))\n",
    "        nib.save(cropped_img, output_path)\n",
    "\n",
    "        print(f\"✅ Cropped image saved at: {output_path}\\n\")\n",
    "\n",
    "    except Exception as e:\n",
    "        print(f\"❌ Error processing {filename}: {e}\\n\")\n"
   ]
  },
  {
   "cell_type": "code",
   "execution_count": 5,
   "id": "f2f7483b",
   "metadata": {},
   "outputs": [
    {
     "name": "stdout",
     "output_type": "stream",
     "text": [
      "Z spacing (affine[2,2]): -0.75\n"
     ]
    }
   ],
   "source": [
    "print(\"Z spacing (affine[2,2]):\", img.affine[2, 2])\n",
    "#大于0越往上z越大"
   ]
  },
  {
   "cell_type": "code",
   "execution_count": 6,
   "id": "ad293cd8",
   "metadata": {},
   "outputs": [
    {
     "name": "stdout",
     "output_type": "stream",
     "text": [
      "Cropped image saved at: /home/cuixing/Foot&Ankle/Data_Predict/Predict_Data/LF4017_resampled__cropped_0000.nii.gz\n"
     ]
    }
   ],
   "source": [
    "# half half\n",
    "\n",
    "z_mid = data.shape[2] // 2\n",
    "if img.affine[2, 2] > 0:\n",
    "    cropped_data = data[:, :, :z_mid]\n",
    "else:\n",
    "    cropped_data = data[:, :, z_mid:]\n",
    "\n",
    "\n",
    "# \n",
    "cropped_img = nib.Nifti1Image(cropped_data, affine, header)\n",
    "output_path = input_path.replace(\"0000.nii.gz\", \"_cropped_0000.nii.gz\")\n",
    "nib.save(cropped_img, output_path)\n",
    "\n",
    "print(\"Cropped image saved at:\", output_path)"
   ]
  },
  {
   "cell_type": "code",
   "execution_count": null,
   "id": "fe74bd91",
   "metadata": {},
   "outputs": [],
   "source": []
  }
 ],
 "metadata": {
  "kernelspec": {
   "display_name": "Python 3 (ipykernel)",
   "language": "python",
   "name": "python3"
  },
  "language_info": {
   "codemirror_mode": {
    "name": "ipython",
    "version": 3
   },
   "file_extension": ".py",
   "mimetype": "text/x-python",
   "name": "python",
   "nbconvert_exporter": "python",
   "pygments_lexer": "ipython3",
   "version": "3.9.7"
  }
 },
 "nbformat": 4,
 "nbformat_minor": 5
}
